{
  "nbformat": 4,
  "nbformat_minor": 0,
  "metadata": {
    "colab": {
      "name": "Untitled0.ipynb",
      "provenance": [],
      "private_outputs": true,
      "include_colab_link": true
    },
    "kernelspec": {
      "name": "python3",
      "display_name": "Python 3"
    },
    "accelerator": "GPU"
  },
  "cells": [
    {
      "cell_type": "markdown",
      "metadata": {
        "id": "view-in-github",
        "colab_type": "text"
      },
      "source": [
        "<a href=\"https://colab.research.google.com/github/ni-chen/Deep-Speckle-Correlation/blob/master/run_main.ipynb\" target=\"_parent\"><img src=\"https://colab.research.google.com/assets/colab-badge.svg\" alt=\"Open In Colab\"/></a>"
      ]
    },
    {
      "cell_type": "code",
      "metadata": {
        "id": "AjGBAaBasa4t",
        "colab_type": "code",
        "colab": {}
      },
      "source": [
        "import sys\n",
        "sys.version #Should work and give 3.6.4  "
      ],
      "execution_count": 0,
      "outputs": []
    },
    {
      "cell_type": "code",
      "metadata": {
        "id": "8EX0ruAZtHqd",
        "colab_type": "code",
        "colab": {}
      },
      "source": [
        "# 版本不兼容问题\n",
        "!pip uninstall keras\n",
        "!pip install keras==2.2.4\n",
        "\n",
        "!pip uninstall numpy\n",
        "!pip install numpy==1.16"
      ],
      "execution_count": 0,
      "outputs": []
    },
    {
      "cell_type": "code",
      "metadata": {
        "id": "HqyxPjyms3tL",
        "colab_type": "code",
        "colab": {}
      },
      "source": [
        "import tensorflow as tf\n",
        "tf.__version__ #Should work and give 1.1"
      ],
      "execution_count": 0,
      "outputs": []
    },
    {
      "cell_type": "code",
      "metadata": {
        "id": "S0BP0rUXs6Lh",
        "colab_type": "code",
        "colab": {}
      },
      "source": [
        "import keras \n",
        "keras.__version__ #Should work and give something > 2.0"
      ],
      "execution_count": 0,
      "outputs": []
    }
  ]
}