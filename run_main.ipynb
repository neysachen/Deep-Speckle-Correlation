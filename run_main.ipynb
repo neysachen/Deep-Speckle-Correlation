{
  "nbformat": 4,
  "nbformat_minor": 0,
  "metadata": {
    "colab": {
      "name": "Untitled0.ipynb",
      "provenance": [],
      "private_outputs": true,
      "include_colab_link": true
    },
    "kernelspec": {
      "name": "python3",
      "display_name": "Python 3"
    },
    "accelerator": "GPU"
  },
  "cells": [
    {
      "cell_type": "markdown",
      "metadata": {
        "id": "view-in-github",
        "colab_type": "text"
      },
      "source": [
        "<a href=\"https://colab.research.google.com/github/ni-chen/Deep-Speckle-Correlation/blob/master/run_main.ipynb\" target=\"_parent\"><img src=\"https://colab.research.google.com/assets/colab-badge.svg\" alt=\"Open In Colab\"/></a>"
      ]
    },
    {
      "cell_type": "code",
      "metadata": {
        "id": "AjGBAaBasa4t",
        "colab_type": "code",
        "colab": {}
      },
      "source": [
        "import sys\n",
        "sys.version #Should work and give 3.6.4  \n",
        "\n",
        "import tensorflow as tf\n",
        "tf.__version__ #Should work and give 1.1\n",
        "\n",
        "import keras \n",
        "keras.__version__ #Should work and give something > 2.0\n",
        "\n",
        "import numpy as np  \n",
        "np.__version__ #Should work and give something > 1.1\n",
        "\n",
        "import matplotlib.pyplot as plt\n",
        "%matplotlib inline\n",
        "plt.scatter(range(100), np.sin(0.1 * np.array(range(100))))\n"
      ],
      "execution_count": 0,
      "outputs": []
    }
  ]
}